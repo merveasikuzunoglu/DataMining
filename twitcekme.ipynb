{
 "cells": [
  {
   "cell_type": "code",
   "execution_count": 2,
   "metadata": {},
   "outputs": [],
   "source": [
    "import snscrape.modules.twitter as sntwitter \n",
    "import pandas as pd\n",
    "import numpy as np"
   ]
  },
  {
   "cell_type": "code",
   "execution_count": 3,
   "metadata": {},
   "outputs": [],
   "source": [
    "maxTweets = 50\n",
    "for i,tweet in enumerate(sntwitter.TwitterSearchScraper('savunma sanayi + since:2019-12-31 until:2020-01-16').get_items()):\n",
    "    if i > maxTweets :\n",
    "        break\n",
    "    print(tweet.content)\n",
    "    print(\",\")\n",
    "    print(tweet.username)\n",
    "    print(\",\")\n",
    "    print(tweet.date)\n",
    "    print(\",\")\n",
    "    \n",
    " \n"
   ]
  }
 ],
 "metadata": {
  "kernelspec": {
   "display_name": "Python 3",
   "language": "python",
   "name": "python3"
  },
  "language_info": {
   "codemirror_mode": {
    "name": "ipython",
    "version": 3
   },
   "file_extension": ".py",
   "mimetype": "text/x-python",
   "name": "python",
   "nbconvert_exporter": "python",
   "pygments_lexer": "ipython3",
   "version": "3.8.5"
  }
 },
 "nbformat": 4,
 "nbformat_minor": 4
}
